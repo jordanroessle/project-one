{
 "cells": [
  {
   "cell_type": "code",
   "execution_count": 1,
   "metadata": {},
   "outputs": [],
   "source": [
    "import pandas as pd\n",
    "import requests\n",
    "import matplotlib.pyplot as plt"
   ]
  },
  {
   "cell_type": "code",
   "execution_count": 2,
   "metadata": {},
   "outputs": [],
   "source": [
    "base_url = 'https://crashviewer.nhtsa.dot.gov/CrashAPI'\n",
    "start_year = 2019\n",
    "end_year = 2020\n",
    "states = range(1,51)\n",
    "data = []"
   ]
  },
  {
   "cell_type": "code",
   "execution_count": 3,
   "metadata": {},
   "outputs": [
    {
     "data": {
      "text/plain": [
       "0     [[]]\n",
       "1     [[]]\n",
       "2     [[]]\n",
       "3     [[]]\n",
       "4     [[]]\n",
       "5     [[]]\n",
       "6     [[]]\n",
       "7     [[]]\n",
       "8     [[]]\n",
       "9     [[]]\n",
       "10    [[]]\n",
       "11    [[]]\n",
       "12    [[]]\n",
       "13    [[]]\n",
       "14    [[]]\n",
       "15    [[]]\n",
       "16    [[]]\n",
       "17    [[]]\n",
       "18    [[]]\n",
       "19    [[]]\n",
       "20    [[]]\n",
       "21    [[]]\n",
       "22    [[]]\n",
       "23    [[]]\n",
       "24    [[]]\n",
       "25    [[]]\n",
       "26    [[]]\n",
       "27    [[]]\n",
       "28    [[]]\n",
       "29    [[]]\n",
       "30    [[]]\n",
       "31    [[]]\n",
       "32    [[]]\n",
       "33    [[]]\n",
       "34    [[]]\n",
       "35    [[]]\n",
       "36    [[]]\n",
       "37    [[]]\n",
       "38    [[]]\n",
       "39    [[]]\n",
       "40    [[]]\n",
       "41    [[]]\n",
       "42    [[]]\n",
       "43    [[]]\n",
       "44    [[]]\n",
       "45    [[]]\n",
       "46    [[]]\n",
       "47    [[]]\n",
       "48    [[]]\n",
       "49    [[]]\n",
       "Name: Results, dtype: object"
      ]
     },
     "execution_count": 3,
     "metadata": {},
     "output_type": "execute_result"
    }
   ],
   "source": [
    "# Looked at severity counts. Doesn't give nearly as much information as other methods\n",
    "#severity_url = f'/analytics/GetInjurySeverityCounts?fromCaseYear={start_year}&toCaseYear={end_year}&state={state}&format=json'\n",
    "for state in states:\n",
    "    location_url = f'/crashes/GetCrashesByLocation?fromCaseYear={start_year}&toCaseYear={end_year}&state={state}&county=10&format=json'\n",
    "    url = base_url + location_url\n",
    "    data.append(requests.get(url).json())\n",
    "df = pd.DataFrame(data)\n",
    "#Goes by state and county. No error message when you enter a county that doesn't exist (Considered for loop prior to this)\n",
    "df['Results']"
   ]
  },
  {
   "cell_type": "code",
   "execution_count": 4,
   "metadata": {},
   "outputs": [
    {
     "data": {
      "text/plain": [
       "50"
      ]
     },
     "execution_count": 4,
     "metadata": {},
     "output_type": "execute_result"
    }
   ],
   "source": [
    "len(df['Results'])"
   ]
  },
  {
   "cell_type": "code",
   "execution_count": 5,
   "metadata": {
    "scrolled": false
   },
   "outputs": [],
   "source": [
    "year_url = '/FARSData/GetFARSData?dataset=Accident&caseYear=2019&format=json'\n",
    "url = base_url + year_url\n",
    "data_2019 = requests.get(url).json()\n",
    "fatal_df = pd.DataFrame(data_2019['Results'][0])"
   ]
  },
  {
   "cell_type": "code",
   "execution_count": 6,
   "metadata": {},
   "outputs": [
    {
     "data": {
      "text/html": [
       "<div>\n",
       "<style scoped>\n",
       "    .dataframe tbody tr th:only-of-type {\n",
       "        vertical-align: middle;\n",
       "    }\n",
       "\n",
       "    .dataframe tbody tr th {\n",
       "        vertical-align: top;\n",
       "    }\n",
       "\n",
       "    .dataframe thead th {\n",
       "        text-align: right;\n",
       "    }\n",
       "</style>\n",
       "<table border=\"1\" class=\"dataframe\">\n",
       "  <thead>\n",
       "    <tr style=\"text-align: right;\">\n",
       "      <th></th>\n",
       "      <th>ARR_HOUR</th>\n",
       "      <th>ARR_HOURNAME</th>\n",
       "      <th>ARR_MIN</th>\n",
       "      <th>ARR_MINNAME</th>\n",
       "      <th>CF1</th>\n",
       "      <th>CF1NAME</th>\n",
       "      <th>CF2</th>\n",
       "      <th>CF2NAME</th>\n",
       "      <th>CF3</th>\n",
       "      <th>CF3NAME</th>\n",
       "      <th>...</th>\n",
       "      <th>VE_TOTAL</th>\n",
       "      <th>WEATHER</th>\n",
       "      <th>WEATHER1</th>\n",
       "      <th>WEATHER1NAME</th>\n",
       "      <th>WEATHER2</th>\n",
       "      <th>WEATHER2NAME</th>\n",
       "      <th>WEATHERNAME</th>\n",
       "      <th>WRK_ZONE</th>\n",
       "      <th>WRK_ZONENAME</th>\n",
       "      <th>YEAR</th>\n",
       "    </tr>\n",
       "  </thead>\n",
       "  <tbody>\n",
       "    <tr>\n",
       "      <th>0</th>\n",
       "      <td>13</td>\n",
       "      <td>1:00pm-1:59pm</td>\n",
       "      <td>9</td>\n",
       "      <td>9</td>\n",
       "      <td>0</td>\n",
       "      <td>None</td>\n",
       "      <td>0</td>\n",
       "      <td>None</td>\n",
       "      <td>0</td>\n",
       "      <td>None</td>\n",
       "      <td>...</td>\n",
       "      <td>2</td>\n",
       "      <td>1</td>\n",
       "      <td>1</td>\n",
       "      <td>Clear</td>\n",
       "      <td>0</td>\n",
       "      <td>No Additional Atmospheric Conditions</td>\n",
       "      <td>Clear</td>\n",
       "      <td>0</td>\n",
       "      <td>None</td>\n",
       "      <td>2019</td>\n",
       "    </tr>\n",
       "    <tr>\n",
       "      <th>1</th>\n",
       "      <td>18</td>\n",
       "      <td>6:00pm-6:59pm</td>\n",
       "      <td>7</td>\n",
       "      <td>7</td>\n",
       "      <td>0</td>\n",
       "      <td>None</td>\n",
       "      <td>0</td>\n",
       "      <td>None</td>\n",
       "      <td>0</td>\n",
       "      <td>None</td>\n",
       "      <td>...</td>\n",
       "      <td>2</td>\n",
       "      <td>2</td>\n",
       "      <td>2</td>\n",
       "      <td>Rain</td>\n",
       "      <td>0</td>\n",
       "      <td>No Additional Atmospheric Conditions</td>\n",
       "      <td>Rain</td>\n",
       "      <td>0</td>\n",
       "      <td>None</td>\n",
       "      <td>2019</td>\n",
       "    </tr>\n",
       "    <tr>\n",
       "      <th>2</th>\n",
       "      <td>19</td>\n",
       "      <td>7:00pm-7:59pm</td>\n",
       "      <td>12</td>\n",
       "      <td>12</td>\n",
       "      <td>14</td>\n",
       "      <td>Motor Vehicle struck by falling cargo,or somet...</td>\n",
       "      <td>0</td>\n",
       "      <td>None</td>\n",
       "      <td>0</td>\n",
       "      <td>None</td>\n",
       "      <td>...</td>\n",
       "      <td>3</td>\n",
       "      <td>10</td>\n",
       "      <td>10</td>\n",
       "      <td>Cloudy</td>\n",
       "      <td>0</td>\n",
       "      <td>No Additional Atmospheric Conditions</td>\n",
       "      <td>Cloudy</td>\n",
       "      <td>0</td>\n",
       "      <td>None</td>\n",
       "      <td>2019</td>\n",
       "    </tr>\n",
       "    <tr>\n",
       "      <th>3</th>\n",
       "      <td>3</td>\n",
       "      <td>3:00am-3:59am</td>\n",
       "      <td>11</td>\n",
       "      <td>11</td>\n",
       "      <td>0</td>\n",
       "      <td>None</td>\n",
       "      <td>0</td>\n",
       "      <td>None</td>\n",
       "      <td>0</td>\n",
       "      <td>None</td>\n",
       "      <td>...</td>\n",
       "      <td>1</td>\n",
       "      <td>1</td>\n",
       "      <td>1</td>\n",
       "      <td>Clear</td>\n",
       "      <td>0</td>\n",
       "      <td>No Additional Atmospheric Conditions</td>\n",
       "      <td>Clear</td>\n",
       "      <td>0</td>\n",
       "      <td>None</td>\n",
       "      <td>2019</td>\n",
       "    </tr>\n",
       "    <tr>\n",
       "      <th>4</th>\n",
       "      <td>6</td>\n",
       "      <td>6:00am-6:59am</td>\n",
       "      <td>0</td>\n",
       "      <td>0</td>\n",
       "      <td>0</td>\n",
       "      <td>None</td>\n",
       "      <td>0</td>\n",
       "      <td>None</td>\n",
       "      <td>0</td>\n",
       "      <td>None</td>\n",
       "      <td>...</td>\n",
       "      <td>1</td>\n",
       "      <td>5</td>\n",
       "      <td>5</td>\n",
       "      <td>Fog, Smog, Smoke</td>\n",
       "      <td>0</td>\n",
       "      <td>No Additional Atmospheric Conditions</td>\n",
       "      <td>Fog, Smog, Smoke</td>\n",
       "      <td>0</td>\n",
       "      <td>None</td>\n",
       "      <td>2019</td>\n",
       "    </tr>\n",
       "    <tr>\n",
       "      <th>...</th>\n",
       "      <td>...</td>\n",
       "      <td>...</td>\n",
       "      <td>...</td>\n",
       "      <td>...</td>\n",
       "      <td>...</td>\n",
       "      <td>...</td>\n",
       "      <td>...</td>\n",
       "      <td>...</td>\n",
       "      <td>...</td>\n",
       "      <td>...</td>\n",
       "      <td>...</td>\n",
       "      <td>...</td>\n",
       "      <td>...</td>\n",
       "      <td>...</td>\n",
       "      <td>...</td>\n",
       "      <td>...</td>\n",
       "      <td>...</td>\n",
       "      <td>...</td>\n",
       "      <td>...</td>\n",
       "      <td>...</td>\n",
       "      <td>...</td>\n",
       "    </tr>\n",
       "    <tr>\n",
       "      <th>33514</th>\n",
       "      <td>18</td>\n",
       "      <td>6:00pm-6:59pm</td>\n",
       "      <td>50</td>\n",
       "      <td>50</td>\n",
       "      <td>0</td>\n",
       "      <td>None</td>\n",
       "      <td>0</td>\n",
       "      <td>None</td>\n",
       "      <td>0</td>\n",
       "      <td>None</td>\n",
       "      <td>...</td>\n",
       "      <td>1</td>\n",
       "      <td>6</td>\n",
       "      <td>6</td>\n",
       "      <td>Severe Crosswinds</td>\n",
       "      <td>0</td>\n",
       "      <td>No Additional Atmospheric Conditions</td>\n",
       "      <td>Severe Crosswinds</td>\n",
       "      <td>0</td>\n",
       "      <td>None</td>\n",
       "      <td>2019</td>\n",
       "    </tr>\n",
       "    <tr>\n",
       "      <th>33515</th>\n",
       "      <td>13</td>\n",
       "      <td>1:00pm-1:59pm</td>\n",
       "      <td>24</td>\n",
       "      <td>24</td>\n",
       "      <td>0</td>\n",
       "      <td>None</td>\n",
       "      <td>0</td>\n",
       "      <td>None</td>\n",
       "      <td>0</td>\n",
       "      <td>None</td>\n",
       "      <td>...</td>\n",
       "      <td>5</td>\n",
       "      <td>1</td>\n",
       "      <td>1</td>\n",
       "      <td>Clear</td>\n",
       "      <td>0</td>\n",
       "      <td>No Additional Atmospheric Conditions</td>\n",
       "      <td>Clear</td>\n",
       "      <td>0</td>\n",
       "      <td>None</td>\n",
       "      <td>2019</td>\n",
       "    </tr>\n",
       "    <tr>\n",
       "      <th>33516</th>\n",
       "      <td>15</td>\n",
       "      <td>3:00pm-3:59pm</td>\n",
       "      <td>48</td>\n",
       "      <td>48</td>\n",
       "      <td>0</td>\n",
       "      <td>None</td>\n",
       "      <td>0</td>\n",
       "      <td>None</td>\n",
       "      <td>0</td>\n",
       "      <td>None</td>\n",
       "      <td>...</td>\n",
       "      <td>1</td>\n",
       "      <td>1</td>\n",
       "      <td>1</td>\n",
       "      <td>Clear</td>\n",
       "      <td>0</td>\n",
       "      <td>No Additional Atmospheric Conditions</td>\n",
       "      <td>Clear</td>\n",
       "      <td>0</td>\n",
       "      <td>None</td>\n",
       "      <td>2019</td>\n",
       "    </tr>\n",
       "    <tr>\n",
       "      <th>33517</th>\n",
       "      <td>5</td>\n",
       "      <td>5:00am-5:59am</td>\n",
       "      <td>4</td>\n",
       "      <td>4</td>\n",
       "      <td>0</td>\n",
       "      <td>None</td>\n",
       "      <td>0</td>\n",
       "      <td>None</td>\n",
       "      <td>0</td>\n",
       "      <td>None</td>\n",
       "      <td>...</td>\n",
       "      <td>1</td>\n",
       "      <td>1</td>\n",
       "      <td>1</td>\n",
       "      <td>Clear</td>\n",
       "      <td>0</td>\n",
       "      <td>No Additional Atmospheric Conditions</td>\n",
       "      <td>Clear</td>\n",
       "      <td>4</td>\n",
       "      <td>Work Zone, Type Unknown</td>\n",
       "      <td>2019</td>\n",
       "    </tr>\n",
       "    <tr>\n",
       "      <th>33518</th>\n",
       "      <td>23</td>\n",
       "      <td>11:00pm-11:59pm</td>\n",
       "      <td>27</td>\n",
       "      <td>27</td>\n",
       "      <td>0</td>\n",
       "      <td>None</td>\n",
       "      <td>0</td>\n",
       "      <td>None</td>\n",
       "      <td>0</td>\n",
       "      <td>None</td>\n",
       "      <td>...</td>\n",
       "      <td>2</td>\n",
       "      <td>2</td>\n",
       "      <td>2</td>\n",
       "      <td>Rain</td>\n",
       "      <td>0</td>\n",
       "      <td>No Additional Atmospheric Conditions</td>\n",
       "      <td>Rain</td>\n",
       "      <td>0</td>\n",
       "      <td>None</td>\n",
       "      <td>2019</td>\n",
       "    </tr>\n",
       "  </tbody>\n",
       "</table>\n",
       "<p>33519 rows × 93 columns</p>\n",
       "</div>"
      ],
      "text/plain": [
       "      ARR_HOUR     ARR_HOURNAME ARR_MIN ARR_MINNAME CF1  \\\n",
       "0           13    1:00pm-1:59pm       9           9   0   \n",
       "1           18    6:00pm-6:59pm       7           7   0   \n",
       "2           19    7:00pm-7:59pm      12          12  14   \n",
       "3            3    3:00am-3:59am      11          11   0   \n",
       "4            6    6:00am-6:59am       0           0   0   \n",
       "...        ...              ...     ...         ...  ..   \n",
       "33514       18    6:00pm-6:59pm      50          50   0   \n",
       "33515       13    1:00pm-1:59pm      24          24   0   \n",
       "33516       15    3:00pm-3:59pm      48          48   0   \n",
       "33517        5    5:00am-5:59am       4           4   0   \n",
       "33518       23  11:00pm-11:59pm      27          27   0   \n",
       "\n",
       "                                                 CF1NAME CF2 CF2NAME CF3  \\\n",
       "0                                                   None   0    None   0   \n",
       "1                                                   None   0    None   0   \n",
       "2      Motor Vehicle struck by falling cargo,or somet...   0    None   0   \n",
       "3                                                   None   0    None   0   \n",
       "4                                                   None   0    None   0   \n",
       "...                                                  ...  ..     ...  ..   \n",
       "33514                                               None   0    None   0   \n",
       "33515                                               None   0    None   0   \n",
       "33516                                               None   0    None   0   \n",
       "33517                                               None   0    None   0   \n",
       "33518                                               None   0    None   0   \n",
       "\n",
       "      CF3NAME  ... VE_TOTAL WEATHER WEATHER1       WEATHER1NAME WEATHER2  \\\n",
       "0        None  ...        2       1        1              Clear        0   \n",
       "1        None  ...        2       2        2               Rain        0   \n",
       "2        None  ...        3      10       10             Cloudy        0   \n",
       "3        None  ...        1       1        1              Clear        0   \n",
       "4        None  ...        1       5        5   Fog, Smog, Smoke        0   \n",
       "...       ...  ...      ...     ...      ...                ...      ...   \n",
       "33514    None  ...        1       6        6  Severe Crosswinds        0   \n",
       "33515    None  ...        5       1        1              Clear        0   \n",
       "33516    None  ...        1       1        1              Clear        0   \n",
       "33517    None  ...        1       1        1              Clear        0   \n",
       "33518    None  ...        2       2        2               Rain        0   \n",
       "\n",
       "                               WEATHER2NAME        WEATHERNAME WRK_ZONE  \\\n",
       "0      No Additional Atmospheric Conditions              Clear        0   \n",
       "1      No Additional Atmospheric Conditions               Rain        0   \n",
       "2      No Additional Atmospheric Conditions             Cloudy        0   \n",
       "3      No Additional Atmospheric Conditions              Clear        0   \n",
       "4      No Additional Atmospheric Conditions   Fog, Smog, Smoke        0   \n",
       "...                                     ...                ...      ...   \n",
       "33514  No Additional Atmospheric Conditions  Severe Crosswinds        0   \n",
       "33515  No Additional Atmospheric Conditions              Clear        0   \n",
       "33516  No Additional Atmospheric Conditions              Clear        0   \n",
       "33517  No Additional Atmospheric Conditions              Clear        4   \n",
       "33518  No Additional Atmospheric Conditions               Rain        0   \n",
       "\n",
       "                  WRK_ZONENAME  YEAR  \n",
       "0                         None  2019  \n",
       "1                         None  2019  \n",
       "2                         None  2019  \n",
       "3                         None  2019  \n",
       "4                         None  2019  \n",
       "...                        ...   ...  \n",
       "33514                     None  2019  \n",
       "33515                     None  2019  \n",
       "33516                     None  2019  \n",
       "33517  Work Zone, Type Unknown  2019  \n",
       "33518                     None  2019  \n",
       "\n",
       "[33519 rows x 93 columns]"
      ]
     },
     "execution_count": 6,
     "metadata": {},
     "output_type": "execute_result"
    }
   ],
   "source": [
    "fatal_df"
   ]
  },
  {
   "cell_type": "code",
   "execution_count": 7,
   "metadata": {},
   "outputs": [
    {
     "data": {
      "image/png": "[encoded data removed]",
      "text/plain": [
       "<Figure size 432x288 with 1 Axes>"
      ]
     },
     "metadata": {
      "needs_background": "light"
     },
     "output_type": "display_data"
    }
   ],
   "source": [
    "fatal_df.ARR_HOUR.value_counts().keys()\n",
    "fatal_time = fatal_df[fatal_df.ARR_HOUR != '99']\n",
    "fatal_time = fatal_time[fatal_time.ARR_HOUR != '88']\n",
    "plt.bar(fatal_time.ARR_HOUR.value_counts().keys(),fatal_time.ARR_HOUR.value_counts().values)\n",
    "plt.xticks(rotation = 'vertical')\n",
    "plt.show()"
   ]
  },
  {
   "cell_type": "code",
   "execution_count": 8,
   "metadata": {},
   "outputs": [
    {
     "data": {
      "text/plain": [
       "California              3316\n",
       "Texas                   3294\n",
       "Florida                 2950\n",
       "Georgia                 1377\n",
       "North Carolina          1284\n",
       "Tennessee               1040\n",
       "Ohio                    1039\n",
       "Pennsylvania             990\n",
       "Illinois                 938\n",
       "South Carolina           922\n",
       "Arizona                  910\n",
       "Michigan                 902\n",
       "New York                 876\n",
       "Alabama                  856\n",
       "Missouri                 818\n",
       "Virginia                 774\n",
       "Indiana                  751\n",
       "Louisiana                681\n",
       "Kentucky                 667\n",
       "Oklahoma                 584\n",
       "Mississippi              581\n",
       "Colorado                 544\n",
       "Wisconsin                526\n",
       "New Jersey               525\n",
       "Washington               494\n",
       "Maryland                 484\n",
       "Arkansas                 467\n",
       "Oregon                   451\n",
       "New Mexico               368\n",
       "Kansas                   362\n",
       "Minnesota                333\n",
       "Massachusetts            321\n",
       "Iowa                     313\n",
       "Nevada                   285\n",
       "Puerto Rico              275\n",
       "West Virginia            247\n",
       "Connecticut              233\n",
       "Utah                     225\n",
       "Nebraska                 212\n",
       "Idaho                    201\n",
       "Montana                  166\n",
       "Maine                    143\n",
       "Delaware                 122\n",
       "Wyoming                  120\n",
       "Hawaii                   102\n",
       "North Dakota              91\n",
       "New Hampshire             90\n",
       "South Dakota              88\n",
       "Alaska                    62\n",
       "Rhode Island              53\n",
       "Vermont                   44\n",
       "District of Columbia      22\n",
       "Name: STATENAME, dtype: int64"
      ]
     },
     "execution_count": 8,
     "metadata": {},
     "output_type": "execute_result"
    }
   ],
   "source": [
    "fatal_df.STATENAME.value_counts()"
   ]
  },
  {
   "cell_type": "code",
   "execution_count": 9,
   "metadata": {},
   "outputs": [
    {
     "data": {
      "text/plain": [
       "I-10                 296\n",
       "I-95                 202\n",
       "I-40                 195\n",
       "I-75                 167\n",
       "US-1                 163\n",
       "                    ... \n",
       "SR-194 MESABA AVE      1\n",
       "CR-ELIZABETH ROAD      1\n",
       "SMOKEY RD              1\n",
       "MARBACH RD             1\n",
       "N 26TH ST              1\n",
       "Name: TWAY_ID, Length: 16237, dtype: int64"
      ]
     },
     "execution_count": 9,
     "metadata": {},
     "output_type": "execute_result"
    }
   ],
   "source": [
    "fatal_df.TWAY_ID.value_counts()"
   ]
  },
  {
   "cell_type": "code",
   "execution_count": 10,
   "metadata": {},
   "outputs": [
    {
     "data": {
      "image/png": "[encoded data removed]",
      "text/plain": [
       "<Figure size 432x288 with 1 Axes>"
      ]
     },
     "metadata": {
      "needs_background": "light"
     },
     "output_type": "display_data"
    }
   ],
   "source": [
    "plt.bar(fatal_df.WEATHERNAME.value_counts().keys(),fatal_df.WEATHERNAME.value_counts().values)\n",
    "plt.xticks(rotation = 'vertical')\n",
    "plt.show()"
   ]
  },
  {
   "cell_type": "code",
   "execution_count": 11,
   "metadata": {},
   "outputs": [],
   "source": [
    "fatal_df['LATITUDE'] = fatal_df.LATITUDE.values.astype('float')\n",
    "fatal_df['LONGITUD'] = fatal_df.LONGITUD.values.astype('float')"
   ]
  },
  {
   "cell_type": "code",
   "execution_count": 12,
   "metadata": {},
   "outputs": [
    {
     "name": "stdout",
     "output_type": "stream",
     "text": [
      "33519\n",
      "33465\n"
     ]
    }
   ],
   "source": [
    "len(fatal_df[fatal_df['LATITUDE'] > 90]['LATITUDE'])\n",
    "print(len(fatal_df))\n",
    "fatal_df = fatal_df[fatal_df['LATITUDE'] < 90]\n",
    "print(len(fatal_df))\n",
    "fatal_df = fatal_df[fatal_df['LONGITUD'] < 180]\n"
   ]
  },
  {
   "cell_type": "code",
   "execution_count": 13,
   "metadata": {},
   "outputs": [
    {
     "data": {
      "text/plain": [
       "<matplotlib.collections.PathCollection at 0x2774294fca0>"
      ]
     },
     "execution_count": 13,
     "metadata": {},
     "output_type": "execute_result"
    },
    {
     "data": {
      "image/png": "[encoded data removed]",
      "text/plain": [
       "<Figure size 432x288 with 1 Axes>"
      ]
     },
     "metadata": {
      "needs_background": "light"
     },
     "output_type": "display_data"
    }
   ],
   "source": [
    "plt.scatter(fatal_df.LONGITUD,fatal_df.LATITUDE)"
   ]
  },
  {
   "cell_type": "code",
   "execution_count": 14,
   "metadata": {},
   "outputs": [],
   "source": [
    "fatal_df[fatal_df['LONGITUD'] > 90]['STATENAME']\n",
    "fatal_df = fatal_df[fatal_df['LONGITUD'] < 90]\n"
   ]
  },
  {
   "cell_type": "code",
   "execution_count": 15,
   "metadata": {},
   "outputs": [
    {
     "data": {
      "text/plain": [
       "<matplotlib.collections.PathCollection at 0x277428a87c0>"
      ]
     },
     "execution_count": 15,
     "metadata": {},
     "output_type": "execute_result"
    },
    {
     "data": {
      "image/png": "[encoded data removed]",
      "text/plain": [
       "<Figure size 432x288 with 1 Axes>"
      ]
     },
     "metadata": {
      "needs_background": "light"
     },
     "output_type": "display_data"
    }
   ],
   "source": [
    "plt.scatter(fatal_df.LONGITUD,fatal_df.LATITUDE)"
   ]
  },
  {
   "cell_type": "code",
   "execution_count": 16,
   "metadata": {},
   "outputs": [],
   "source": [
    "fatal_df.to_csv('csv_files/fatal_accidents_2019.csv')"
   ]
  },
  {
   "cell_type": "code",
   "execution_count": null,
   "metadata": {},
   "outputs": [],
   "source": []
  }
 ],
 "metadata": {
  "kernelspec": {
   "display_name": "Python 3",
   "language": "python",
   "name": "python3"
  },
  "language_info": {
   "codemirror_mode": {
    "name": "ipython",
    "version": 3
   },
   "file_extension": ".py",
   "mimetype": "text/x-python",
   "name": "python",
   "nbconvert_exporter": "python",
   "pygments_lexer": "ipython3",
   "version": "3.8.5"
  }
 },
 "nbformat": 4,
 "nbformat_minor": 4
}
