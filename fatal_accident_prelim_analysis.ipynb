{
 "cells": [
  {
   "cell_type": "code",
   "execution_count": 1,
   "metadata": {},
   "outputs": [],
   "source": [
    "import pandas as pd\n",
    "import requests\n",
    "import matplotlib.pyplot as plt"
   ]
  },
  {
   "cell_type": "code",
   "execution_count": 2,
   "metadata": {},
   "outputs": [],
   "source": [
    "base_url = 'https://crashviewer.nhtsa.dot.gov/CrashAPI'\n",
    "start_year = 2019\n",
    "end_year = 2020\n",
    "states = range(1,51)\n",
    "data = []"
   ]
  },
  {
   "cell_type": "code",
   "execution_count": null,
   "metadata": {},
   "outputs": [],
   "source": [
    "# Looked at severity counts. Doesn't give nearly as much information as other methods\n",
    "#severity_url = f'/analytics/GetInjurySeverityCounts?fromCaseYear={start_year}&toCaseYear={end_year}&state={state}&format=json'\n",
    "for state in states:\n",
    "    location_url = f'/crashes/GetCrashesByLocation?fromCaseYear={start_year}&toCaseYear={end_year}&state={state}&county=10&format=json'\n",
    "    url = base_url + location_url\n",
    "    data.append(requests.get(url).json())\n",
    "df = pd.DataFrame(data)\n",
    "#Goes by state and county. No error message when you enter a county that doesn't exist (Considered for loop prior to this)\n",
    "df['Results']"
   ]
  },
  {
   "cell_type": "code",
   "execution_count": null,
   "metadata": {},
   "outputs": [],
   "source": [
    "len(df['Results'])"
   ]
  },
  {
   "cell_type": "code",
   "execution_count": null,
   "metadata": {
    "scrolled": false
   },
   "outputs": [],
   "source": [
    "year_url = '/FARSData/GetFARSData?dataset=Accident&caseYear=2019&format=json'\n",
    "url = base_url + year_url\n",
    "data_2019 = requests.get(url).json()\n",
    "fatal_df = pd.DataFrame(data_2019['Results'][0])"
   ]
  },
  {
   "cell_type": "code",
   "execution_count": null,
   "metadata": {},
   "outputs": [],
   "source": [
    "fatal_df"
   ]
  },
  {
   "cell_type": "code",
   "execution_count": null,
   "metadata": {},
   "outputs": [],
   "source": [
    "fatal_df.ARR_HOUR.value_counts().keys()\n",
    "fatal_time = fatal_df[fatal_df.ARR_HOUR != '99']\n",
    "fatal_time = fatal_time[fatal_time.ARR_HOUR != '88']\n",
    "plt.bar(fatal_time.ARR_HOUR.value_counts().keys(),fatal_time.ARR_HOUR.value_counts().values)\n",
    "plt.xticks(rotation = 'vertical')\n",
    "plt.show()"
   ]
  },
  {
   "cell_type": "code",
   "execution_count": null,
   "metadata": {},
   "outputs": [],
   "source": [
    "fatal_df.STATENAME.value_counts()"
   ]
  },
  {
   "cell_type": "code",
   "execution_count": null,
   "metadata": {},
   "outputs": [],
   "source": [
    "fatal_df.TWAY_ID.value_counts()"
   ]
  },
  {
   "cell_type": "code",
   "execution_count": null,
   "metadata": {},
   "outputs": [],
   "source": [
    "plt.bar(fatal_df.WEATHERNAME.value_counts().keys(),fatal_df.WEATHERNAME.value_counts().values)\n",
    "plt.xticks(rotation = 'vertical')\n",
    "plt.show()"
   ]
  },
  {
   "cell_type": "code",
   "execution_count": null,
   "metadata": {},
   "outputs": [],
   "source": [
    "fatal_df['LATITUDE'] = fatal_df.LATITUDE.values.astype('float')\n",
    "fatal_df['LONGITUD'] = fatal_df.LONGITUD.values.astype('float')"
   ]
  },
  {
   "cell_type": "code",
   "execution_count": null,
   "metadata": {},
   "outputs": [],
   "source": [
    "len(fatal_df[fatal_df['LATITUDE'] > 90]['LATITUDE'])\n",
    "print(len(fatal_df))\n",
    "fatal_df = fatal_df[fatal_df['LATITUDE'] < 90]\n",
    "print(len(fatal_df))\n",
    "fatal_df = fatal_df[fatal_df['LONGITUD'] < 180]\n"
   ]
  },
  {
   "cell_type": "code",
   "execution_count": null,
   "metadata": {},
   "outputs": [],
   "source": [
    "plt.scatter(fatal_df.LONGITUD,fatal_df.LATITUDE)"
   ]
  },
  {
   "cell_type": "code",
   "execution_count": null,
   "metadata": {},
   "outputs": [],
   "source": [
    "fatal_df[fatal_df['LONGITUD'] > 90]['STATENAME']\n",
    "fatal_df = fatal_df[fatal_df['LONGITUD'] < 90]\n"
   ]
  },
  {
   "cell_type": "code",
   "execution_count": null,
   "metadata": {},
   "outputs": [],
   "source": [
    "plt.scatter(fatal_df.LONGITUD,fatal_df.LATITUDE)"
   ]
  },
  {
   "cell_type": "code",
   "execution_count": null,
   "metadata": {},
   "outputs": [],
   "source": [
    "fatal_df.to_csv('csv_files/fatal_accidents_2019.csv')"
   ]
  }
 ],
 "metadata": {
  "kernelspec": {
   "display_name": "Python 3",
   "language": "python",
   "name": "python3"
  },
  "language_info": {
   "codemirror_mode": {
    "name": "ipython",
    "version": 3
   },
   "file_extension": ".py",
   "mimetype": "text/x-python",
   "name": "python",
   "nbconvert_exporter": "python",
   "pygments_lexer": "ipython3",
   "version": "3.8.5"
  }
 },
 "nbformat": 4,
 "nbformat_minor": 4
}
